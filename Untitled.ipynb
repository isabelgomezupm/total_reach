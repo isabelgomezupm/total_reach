{
 "cells": [
  {
   "cell_type": "code",
   "execution_count": 1,
   "id": "80c4f779-aebe-43b4-b8de-4dd4cff57dd5",
   "metadata": {},
   "outputs": [
    {
     "name": "stdout",
     "output_type": "stream",
     "text": [
      "Collecting streamlit-datetime-range-picker\n",
      "  Downloading streamlit_datetime_range_picker-0.0.1-py3-none-any.whl.metadata (2.8 kB)\n",
      "Requirement already satisfied: streamlit>=1.27.0 in c:\\users\\rosaliasantamaria\\appdata\\local\\anaconda3\\lib\\site-packages (from streamlit-datetime-range-picker) (1.33.0)\n",
      "Requirement already satisfied: altair<6,>=4.0 in c:\\users\\rosaliasantamaria\\appdata\\local\\anaconda3\\lib\\site-packages (from streamlit>=1.27.0->streamlit-datetime-range-picker) (5.0.1)\n",
      "Requirement already satisfied: blinker<2,>=1.0.0 in c:\\users\\rosaliasantamaria\\appdata\\local\\anaconda3\\lib\\site-packages (from streamlit>=1.27.0->streamlit-datetime-range-picker) (1.6.2)\n",
      "Requirement already satisfied: cachetools<6,>=4.0 in c:\\users\\rosaliasantamaria\\appdata\\local\\anaconda3\\lib\\site-packages (from streamlit>=1.27.0->streamlit-datetime-range-picker) (4.2.2)\n",
      "Requirement already satisfied: click<9,>=7.0 in c:\\users\\rosaliasantamaria\\appdata\\local\\anaconda3\\lib\\site-packages (from streamlit>=1.27.0->streamlit-datetime-range-picker) (8.1.7)\n",
      "Requirement already satisfied: numpy<2,>=1.19.3 in c:\\users\\rosaliasantamaria\\appdata\\local\\anaconda3\\lib\\site-packages (from streamlit>=1.27.0->streamlit-datetime-range-picker) (1.26.4)\n",
      "Requirement already satisfied: packaging<25,>=16.8 in c:\\users\\rosaliasantamaria\\appdata\\local\\anaconda3\\lib\\site-packages (from streamlit>=1.27.0->streamlit-datetime-range-picker) (23.2)\n",
      "Requirement already satisfied: pandas<3,>=1.3.0 in c:\\users\\rosaliasantamaria\\appdata\\local\\anaconda3\\lib\\site-packages (from streamlit>=1.27.0->streamlit-datetime-range-picker) (2.1.4)\n",
      "Requirement already satisfied: pillow<11,>=7.1.0 in c:\\users\\rosaliasantamaria\\appdata\\local\\anaconda3\\lib\\site-packages (from streamlit>=1.27.0->streamlit-datetime-range-picker) (10.2.0)\n",
      "Requirement already satisfied: protobuf<5,>=3.20 in c:\\users\\rosaliasantamaria\\appdata\\local\\anaconda3\\lib\\site-packages (from streamlit>=1.27.0->streamlit-datetime-range-picker) (3.20.3)\n",
      "Requirement already satisfied: pyarrow>=7.0 in c:\\users\\rosaliasantamaria\\appdata\\local\\anaconda3\\lib\\site-packages (from streamlit>=1.27.0->streamlit-datetime-range-picker) (14.0.2)\n",
      "Requirement already satisfied: requests<3,>=2.27 in c:\\users\\rosaliasantamaria\\appdata\\local\\anaconda3\\lib\\site-packages (from streamlit>=1.27.0->streamlit-datetime-range-picker) (2.31.0)\n",
      "Requirement already satisfied: rich<14,>=10.14.0 in c:\\users\\rosaliasantamaria\\appdata\\local\\anaconda3\\lib\\site-packages (from streamlit>=1.27.0->streamlit-datetime-range-picker) (13.3.5)\n",
      "Requirement already satisfied: tenacity<9,>=8.1.0 in c:\\users\\rosaliasantamaria\\appdata\\local\\anaconda3\\lib\\site-packages (from streamlit>=1.27.0->streamlit-datetime-range-picker) (8.2.3)\n",
      "Requirement already satisfied: toml<2,>=0.10.1 in c:\\users\\rosaliasantamaria\\appdata\\local\\anaconda3\\lib\\site-packages (from streamlit>=1.27.0->streamlit-datetime-range-picker) (0.10.2)\n",
      "Requirement already satisfied: typing-extensions<5,>=4.3.0 in c:\\users\\rosaliasantamaria\\appdata\\local\\anaconda3\\lib\\site-packages (from streamlit>=1.27.0->streamlit-datetime-range-picker) (4.9.0)\n",
      "Requirement already satisfied: gitpython!=3.1.19,<4,>=3.0.7 in c:\\users\\rosaliasantamaria\\appdata\\local\\anaconda3\\lib\\site-packages (from streamlit>=1.27.0->streamlit-datetime-range-picker) (3.1.37)\n",
      "Requirement already satisfied: pydeck<1,>=0.8.0b4 in c:\\users\\rosaliasantamaria\\appdata\\local\\anaconda3\\lib\\site-packages (from streamlit>=1.27.0->streamlit-datetime-range-picker) (0.8.0)\n",
      "Requirement already satisfied: tornado<7,>=6.0.3 in c:\\users\\rosaliasantamaria\\appdata\\local\\anaconda3\\lib\\site-packages (from streamlit>=1.27.0->streamlit-datetime-range-picker) (6.3.3)\n",
      "Requirement already satisfied: watchdog>=2.1.5 in c:\\users\\rosaliasantamaria\\appdata\\local\\anaconda3\\lib\\site-packages (from streamlit>=1.27.0->streamlit-datetime-range-picker) (2.1.6)\n",
      "Requirement already satisfied: jinja2 in c:\\users\\rosaliasantamaria\\appdata\\local\\anaconda3\\lib\\site-packages (from altair<6,>=4.0->streamlit>=1.27.0->streamlit-datetime-range-picker) (3.1.3)\n",
      "Requirement already satisfied: jsonschema>=3.0 in c:\\users\\rosaliasantamaria\\appdata\\local\\anaconda3\\lib\\site-packages (from altair<6,>=4.0->streamlit>=1.27.0->streamlit-datetime-range-picker) (4.19.2)\n",
      "Requirement already satisfied: toolz in c:\\users\\rosaliasantamaria\\appdata\\local\\anaconda3\\lib\\site-packages (from altair<6,>=4.0->streamlit>=1.27.0->streamlit-datetime-range-picker) (0.12.0)\n",
      "Requirement already satisfied: colorama in c:\\users\\rosaliasantamaria\\appdata\\local\\anaconda3\\lib\\site-packages (from click<9,>=7.0->streamlit>=1.27.0->streamlit-datetime-range-picker) (0.4.6)\n",
      "Requirement already satisfied: gitdb<5,>=4.0.1 in c:\\users\\rosaliasantamaria\\appdata\\local\\anaconda3\\lib\\site-packages (from gitpython!=3.1.19,<4,>=3.0.7->streamlit>=1.27.0->streamlit-datetime-range-picker) (4.0.7)\n",
      "Requirement already satisfied: python-dateutil>=2.8.2 in c:\\users\\rosaliasantamaria\\appdata\\local\\anaconda3\\lib\\site-packages (from pandas<3,>=1.3.0->streamlit>=1.27.0->streamlit-datetime-range-picker) (2.8.2)\n",
      "Requirement already satisfied: pytz>=2020.1 in c:\\users\\rosaliasantamaria\\appdata\\local\\anaconda3\\lib\\site-packages (from pandas<3,>=1.3.0->streamlit>=1.27.0->streamlit-datetime-range-picker) (2023.3.post1)\n",
      "Requirement already satisfied: tzdata>=2022.1 in c:\\users\\rosaliasantamaria\\appdata\\local\\anaconda3\\lib\\site-packages (from pandas<3,>=1.3.0->streamlit>=1.27.0->streamlit-datetime-range-picker) (2023.3)\n",
      "Requirement already satisfied: charset-normalizer<4,>=2 in c:\\users\\rosaliasantamaria\\appdata\\local\\anaconda3\\lib\\site-packages (from requests<3,>=2.27->streamlit>=1.27.0->streamlit-datetime-range-picker) (2.0.4)\n",
      "Requirement already satisfied: idna<4,>=2.5 in c:\\users\\rosaliasantamaria\\appdata\\local\\anaconda3\\lib\\site-packages (from requests<3,>=2.27->streamlit>=1.27.0->streamlit-datetime-range-picker) (3.4)\n",
      "Requirement already satisfied: urllib3<3,>=1.21.1 in c:\\users\\rosaliasantamaria\\appdata\\local\\anaconda3\\lib\\site-packages (from requests<3,>=2.27->streamlit>=1.27.0->streamlit-datetime-range-picker) (2.0.7)\n",
      "Requirement already satisfied: certifi>=2017.4.17 in c:\\users\\rosaliasantamaria\\appdata\\local\\anaconda3\\lib\\site-packages (from requests<3,>=2.27->streamlit>=1.27.0->streamlit-datetime-range-picker) (2024.2.2)\n",
      "Requirement already satisfied: markdown-it-py<3.0.0,>=2.2.0 in c:\\users\\rosaliasantamaria\\appdata\\local\\anaconda3\\lib\\site-packages (from rich<14,>=10.14.0->streamlit>=1.27.0->streamlit-datetime-range-picker) (2.2.0)\n",
      "Requirement already satisfied: pygments<3.0.0,>=2.13.0 in c:\\users\\rosaliasantamaria\\appdata\\local\\anaconda3\\lib\\site-packages (from rich<14,>=10.14.0->streamlit>=1.27.0->streamlit-datetime-range-picker) (2.15.1)\n",
      "Requirement already satisfied: smmap<5,>=3.0.1 in c:\\users\\rosaliasantamaria\\appdata\\local\\anaconda3\\lib\\site-packages (from gitdb<5,>=4.0.1->gitpython!=3.1.19,<4,>=3.0.7->streamlit>=1.27.0->streamlit-datetime-range-picker) (4.0.0)\n",
      "Requirement already satisfied: MarkupSafe>=2.0 in c:\\users\\rosaliasantamaria\\appdata\\local\\anaconda3\\lib\\site-packages (from jinja2->altair<6,>=4.0->streamlit>=1.27.0->streamlit-datetime-range-picker) (2.1.3)\n",
      "Requirement already satisfied: attrs>=22.2.0 in c:\\users\\rosaliasantamaria\\appdata\\local\\anaconda3\\lib\\site-packages (from jsonschema>=3.0->altair<6,>=4.0->streamlit>=1.27.0->streamlit-datetime-range-picker) (23.1.0)\n",
      "Requirement already satisfied: jsonschema-specifications>=2023.03.6 in c:\\users\\rosaliasantamaria\\appdata\\local\\anaconda3\\lib\\site-packages (from jsonschema>=3.0->altair<6,>=4.0->streamlit>=1.27.0->streamlit-datetime-range-picker) (2023.7.1)\n",
      "Requirement already satisfied: referencing>=0.28.4 in c:\\users\\rosaliasantamaria\\appdata\\local\\anaconda3\\lib\\site-packages (from jsonschema>=3.0->altair<6,>=4.0->streamlit>=1.27.0->streamlit-datetime-range-picker) (0.30.2)\n",
      "Requirement already satisfied: rpds-py>=0.7.1 in c:\\users\\rosaliasantamaria\\appdata\\local\\anaconda3\\lib\\site-packages (from jsonschema>=3.0->altair<6,>=4.0->streamlit>=1.27.0->streamlit-datetime-range-picker) (0.10.6)\n",
      "Requirement already satisfied: mdurl~=0.1 in c:\\users\\rosaliasantamaria\\appdata\\local\\anaconda3\\lib\\site-packages (from markdown-it-py<3.0.0,>=2.2.0->rich<14,>=10.14.0->streamlit>=1.27.0->streamlit-datetime-range-picker) (0.1.0)\n",
      "Requirement already satisfied: six>=1.5 in c:\\users\\rosaliasantamaria\\appdata\\local\\anaconda3\\lib\\site-packages (from python-dateutil>=2.8.2->pandas<3,>=1.3.0->streamlit>=1.27.0->streamlit-datetime-range-picker) (1.16.0)\n",
      "Downloading streamlit_datetime_range_picker-0.0.1-py3-none-any.whl (897 kB)\n",
      "   ---------------------------------------- 0.0/897.2 kB ? eta -:--:--\n",
      "   ---------------------------------------- 10.2/897.2 kB ? eta -:--:--\n",
      "   ---------------------------------------- 10.2/897.2 kB ? eta -:--:--\n",
      "   - ------------------------------------- 30.7/897.2 kB 262.6 kB/s eta 0:00:04\n",
      "   - ------------------------------------- 41.0/897.2 kB 281.8 kB/s eta 0:00:04\n",
      "   ---- ---------------------------------- 92.2/897.2 kB 525.1 kB/s eta 0:00:02\n",
      "   ----------- ---------------------------- 256.0/897.2 kB 1.1 MB/s eta 0:00:01\n",
      "   ------------------- -------------------- 440.3/897.2 kB 1.5 MB/s eta 0:00:01\n",
      "   ---------------------------------------  890.9/897.2 kB 2.7 MB/s eta 0:00:01\n",
      "   ---------------------------------------- 897.2/897.2 kB 2.6 MB/s eta 0:00:00\n",
      "Installing collected packages: streamlit-datetime-range-picker\n",
      "Successfully installed streamlit-datetime-range-picker-0.0.1\n"
     ]
    }
   ],
   "source": [
    "!pip install streamlit-datetime-range-picker"
   ]
  }
 ],
 "metadata": {
  "kernelspec": {
   "display_name": "Python 3 (ipykernel)",
   "language": "python",
   "name": "python3"
  },
  "language_info": {
   "codemirror_mode": {
    "name": "ipython",
    "version": 3
   },
   "file_extension": ".py",
   "mimetype": "text/x-python",
   "name": "python",
   "nbconvert_exporter": "python",
   "pygments_lexer": "ipython3",
   "version": "3.11.7"
  }
 },
 "nbformat": 4,
 "nbformat_minor": 5
}
